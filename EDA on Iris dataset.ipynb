{
 "cells": [
  {
   "cell_type": "markdown",
   "id": "438d067e",
   "metadata": {},
   "source": [
    "<h1><center>Exploratory data Analysis on Iris Data</center></h1>\n",
    "\n",
    "\n",
    "### Work done by -\n",
    "\n",
    "- **Name- Sarvesh Kumar Sharma**\n",
    "- **Section - H**\n",
    "- **Roll no- 29**\n",
    "- **University Roll no - 181500625**"
   ]
  },
  {
   "cell_type": "code",
   "execution_count": 1,
   "id": "cbcdbfc8",
   "metadata": {},
   "outputs": [
    {
     "data": {
      "text/html": [
       "<table>\n",
       "<thead><tr><th scope=col>Sepal.Length</th><th scope=col>Sepal.Width</th><th scope=col>Petal.Length</th><th scope=col>Petal.Width</th><th scope=col>Species</th></tr></thead>\n",
       "<tbody>\n",
       "\t<tr><td>5.1   </td><td>3.5   </td><td>1.4   </td><td>0.2   </td><td>setosa</td></tr>\n",
       "\t<tr><td>4.9   </td><td>3.0   </td><td>1.4   </td><td>0.2   </td><td>setosa</td></tr>\n",
       "\t<tr><td>4.7   </td><td>3.2   </td><td>1.3   </td><td>0.2   </td><td>setosa</td></tr>\n",
       "\t<tr><td>4.6   </td><td>3.1   </td><td>1.5   </td><td>0.2   </td><td>setosa</td></tr>\n",
       "\t<tr><td>5.0   </td><td>3.6   </td><td>1.4   </td><td>0.2   </td><td>setosa</td></tr>\n",
       "\t<tr><td>5.4   </td><td>3.9   </td><td>1.7   </td><td>0.4   </td><td>setosa</td></tr>\n",
       "</tbody>\n",
       "</table>\n"
      ],
      "text/latex": [
       "\\begin{tabular}{r|lllll}\n",
       " Sepal.Length & Sepal.Width & Petal.Length & Petal.Width & Species\\\\\n",
       "\\hline\n",
       "\t 5.1    & 3.5    & 1.4    & 0.2    & setosa\\\\\n",
       "\t 4.9    & 3.0    & 1.4    & 0.2    & setosa\\\\\n",
       "\t 4.7    & 3.2    & 1.3    & 0.2    & setosa\\\\\n",
       "\t 4.6    & 3.1    & 1.5    & 0.2    & setosa\\\\\n",
       "\t 5.0    & 3.6    & 1.4    & 0.2    & setosa\\\\\n",
       "\t 5.4    & 3.9    & 1.7    & 0.4    & setosa\\\\\n",
       "\\end{tabular}\n"
      ],
      "text/markdown": [
       "\n",
       "| Sepal.Length | Sepal.Width | Petal.Length | Petal.Width | Species |\n",
       "|---|---|---|---|---|\n",
       "| 5.1    | 3.5    | 1.4    | 0.2    | setosa |\n",
       "| 4.9    | 3.0    | 1.4    | 0.2    | setosa |\n",
       "| 4.7    | 3.2    | 1.3    | 0.2    | setosa |\n",
       "| 4.6    | 3.1    | 1.5    | 0.2    | setosa |\n",
       "| 5.0    | 3.6    | 1.4    | 0.2    | setosa |\n",
       "| 5.4    | 3.9    | 1.7    | 0.4    | setosa |\n",
       "\n"
      ],
      "text/plain": [
       "  Sepal.Length Sepal.Width Petal.Length Petal.Width Species\n",
       "1 5.1          3.5         1.4          0.2         setosa \n",
       "2 4.9          3.0         1.4          0.2         setosa \n",
       "3 4.7          3.2         1.3          0.2         setosa \n",
       "4 4.6          3.1         1.5          0.2         setosa \n",
       "5 5.0          3.6         1.4          0.2         setosa \n",
       "6 5.4          3.9         1.7          0.4         setosa "
      ]
     },
     "metadata": {},
     "output_type": "display_data"
    }
   ],
   "source": [
    "#loading iris Data\n",
    "\n",
    "data(iris)\n",
    "head(iris)"
   ]
  },
  {
   "cell_type": "code",
   "execution_count": 2,
   "id": "f93bc919",
   "metadata": {},
   "outputs": [
    {
     "data": {
      "text/html": [
       "<ol class=list-inline>\n",
       "\t<li>150</li>\n",
       "\t<li>5</li>\n",
       "</ol>\n"
      ],
      "text/latex": [
       "\\begin{enumerate*}\n",
       "\\item 150\n",
       "\\item 5\n",
       "\\end{enumerate*}\n"
      ],
      "text/markdown": [
       "1. 150\n",
       "2. 5\n",
       "\n",
       "\n"
      ],
      "text/plain": [
       "[1] 150   5"
      ]
     },
     "metadata": {},
     "output_type": "display_data"
    }
   ],
   "source": [
    "# Dimension of dataset\n",
    "dim(iris)"
   ]
  },
  {
   "cell_type": "code",
   "execution_count": 3,
   "id": "907573e5",
   "metadata": {},
   "outputs": [
    {
     "data": {
      "text/html": [
       "<ol class=list-inline>\n",
       "\t<li>'Sepal.Length'</li>\n",
       "\t<li>'Sepal.Width'</li>\n",
       "\t<li>'Petal.Length'</li>\n",
       "\t<li>'Petal.Width'</li>\n",
       "\t<li>'Species'</li>\n",
       "</ol>\n"
      ],
      "text/latex": [
       "\\begin{enumerate*}\n",
       "\\item 'Sepal.Length'\n",
       "\\item 'Sepal.Width'\n",
       "\\item 'Petal.Length'\n",
       "\\item 'Petal.Width'\n",
       "\\item 'Species'\n",
       "\\end{enumerate*}\n"
      ],
      "text/markdown": [
       "1. 'Sepal.Length'\n",
       "2. 'Sepal.Width'\n",
       "3. 'Petal.Length'\n",
       "4. 'Petal.Width'\n",
       "5. 'Species'\n",
       "\n",
       "\n"
      ],
      "text/plain": [
       "[1] \"Sepal.Length\" \"Sepal.Width\"  \"Petal.Length\" \"Petal.Width\"  \"Species\"     "
      ]
     },
     "metadata": {},
     "output_type": "display_data"
    }
   ],
   "source": [
    " # variables names\n",
    "\n",
    "names(iris)"
   ]
  },
  {
   "cell_type": "code",
   "execution_count": 4,
   "id": "51001210",
   "metadata": {},
   "outputs": [
    {
     "name": "stdout",
     "output_type": "stream",
     "text": [
      "'data.frame':\t150 obs. of  5 variables:\n",
      " $ Sepal.Length: num  5.1 4.9 4.7 4.6 5 5.4 4.6 5 4.4 4.9 ...\n",
      " $ Sepal.Width : num  3.5 3 3.2 3.1 3.6 3.9 3.4 3.4 2.9 3.1 ...\n",
      " $ Petal.Length: num  1.4 1.4 1.3 1.5 1.4 1.7 1.4 1.5 1.4 1.5 ...\n",
      " $ Petal.Width : num  0.2 0.2 0.2 0.2 0.2 0.4 0.3 0.2 0.2 0.1 ...\n",
      " $ Species     : Factor w/ 3 levels \"setosa\",\"versicolor\",..: 1 1 1 1 1 1 1 1 1 1 ...\n"
     ]
    }
   ],
   "source": [
    "#structure of data\n",
    "\n",
    "str(iris)"
   ]
  },
  {
   "cell_type": "code",
   "execution_count": 5,
   "id": "d34d06da",
   "metadata": {},
   "outputs": [
    {
     "data": {
      "text/plain": [
       "  Sepal.Length    Sepal.Width     Petal.Length    Petal.Width   \n",
       " Min.   :4.300   Min.   :2.000   Min.   :1.000   Min.   :0.100  \n",
       " 1st Qu.:5.100   1st Qu.:2.800   1st Qu.:1.600   1st Qu.:0.300  \n",
       " Median :5.800   Median :3.000   Median :4.350   Median :1.300  \n",
       " Mean   :5.843   Mean   :3.057   Mean   :3.758   Mean   :1.199  \n",
       " 3rd Qu.:6.400   3rd Qu.:3.300   3rd Qu.:5.100   3rd Qu.:1.800  \n",
       " Max.   :7.900   Max.   :4.400   Max.   :6.900   Max.   :2.500  \n",
       "       Species  \n",
       " setosa    :50  \n",
       " versicolor:50  \n",
       " virginica :50  \n",
       "                \n",
       "                \n",
       "                "
      ]
     },
     "metadata": {},
     "output_type": "display_data"
    }
   ],
   "source": [
    "#Summery of the data\n",
    "\n",
    "summary(iris)"
   ]
  },
  {
   "cell_type": "code",
   "execution_count": 6,
   "id": "51e48bfc",
   "metadata": {},
   "outputs": [
    {
     "data": {
      "text/html": [
       "<table>\n",
       "<thead><tr><th scope=col>Species</th><th scope=col>Sepal.Length</th><th scope=col>Sepal.Width</th><th scope=col>Petal.Length</th><th scope=col>Petal.Width</th></tr></thead>\n",
       "<tbody>\n",
       "\t<tr><td>setosa    </td><td>5.006     </td><td>3.428     </td><td>1.462     </td><td>0.246     </td></tr>\n",
       "\t<tr><td>versicolor</td><td>5.936     </td><td>2.770     </td><td>4.260     </td><td>1.326     </td></tr>\n",
       "\t<tr><td>virginica </td><td>6.588     </td><td>2.974     </td><td>5.552     </td><td>2.026     </td></tr>\n",
       "</tbody>\n",
       "</table>\n"
      ],
      "text/latex": [
       "\\begin{tabular}{r|lllll}\n",
       " Species & Sepal.Length & Sepal.Width & Petal.Length & Petal.Width\\\\\n",
       "\\hline\n",
       "\t setosa     & 5.006      & 3.428      & 1.462      & 0.246     \\\\\n",
       "\t versicolor & 5.936      & 2.770      & 4.260      & 1.326     \\\\\n",
       "\t virginica  & 6.588      & 2.974      & 5.552      & 2.026     \\\\\n",
       "\\end{tabular}\n"
      ],
      "text/markdown": [
       "\n",
       "| Species | Sepal.Length | Sepal.Width | Petal.Length | Petal.Width |\n",
       "|---|---|---|---|---|\n",
       "| setosa     | 5.006      | 3.428      | 1.462      | 0.246      |\n",
       "| versicolor | 5.936      | 2.770      | 4.260      | 1.326      |\n",
       "| virginica  | 6.588      | 2.974      | 5.552      | 2.026      |\n",
       "\n"
      ],
      "text/plain": [
       "  Species    Sepal.Length Sepal.Width Petal.Length Petal.Width\n",
       "1 setosa     5.006        3.428       1.462        0.246      \n",
       "2 versicolor 5.936        2.770       4.260        1.326      \n",
       "3 virginica  6.588        2.974       5.552        2.026      "
      ]
     },
     "metadata": {},
     "output_type": "display_data"
    }
   ],
   "source": [
    "# group mean\n",
    "aggregate(.~Species, iris, mean) "
   ]
  },
  {
   "cell_type": "code",
   "execution_count": 7,
   "id": "a9d4db70",
   "metadata": {},
   "outputs": [
    {
     "data": {
      "text/html": [
       "0"
      ],
      "text/latex": [
       "0"
      ],
      "text/markdown": [
       "0"
      ],
      "text/plain": [
       "[1] 0"
      ]
     },
     "metadata": {},
     "output_type": "display_data"
    }
   ],
   "source": [
    "# find missing values\n",
    "\n",
    "sum(is.na(iris))"
   ]
  },
  {
   "cell_type": "code",
   "execution_count": 8,
   "id": "a5df4c2c",
   "metadata": {},
   "outputs": [
    {
     "name": "stderr",
     "output_type": "stream",
     "text": [
      "Registered S3 methods overwritten by 'ggplot2':\n",
      "  method         from \n",
      "  [.quosures     rlang\n",
      "  c.quosures     rlang\n",
      "  print.quosures rlang\n"
     ]
    },
    {
     "data": {
      "image/png": "[encoded data removed]",
      "text/plain": [
       "plot without title"
      ]
     },
     "metadata": {},
     "output_type": "display_data"
    }
   ],
   "source": [
    "# graph between sepal length and sepal length\n",
    "\n",
    "library(ggplot2)\n",
    "ggplot(iris,aes(Sepal.Width,(Sepal.Length),color=Species))+\n",
    "  geom_point(position=\"jitter\")"
   ]
  },
  {
   "cell_type": "markdown",
   "id": "395daffa",
   "metadata": {},
   "source": [
    "By the two plots I can conclude that out of all the three, virginica must be the biggest flower and setosa must be the smallest as the median petal length is 5.55 and 1.5 for each respectively. Versicolor comes close to virginica with a median petal length of 4.35.\n",
    "\n",
    "as the virginica has the highest petal length, relatively its sepal length is also big. with a median of 5.8"
   ]
  },
  {
   "cell_type": "code",
   "execution_count": 9,
   "id": "38be05d9",
   "metadata": {},
   "outputs": [
    {
     "name": "stderr",
     "output_type": "stream",
     "text": [
      "`geom_smooth()` using method = 'loess' and formula 'y ~ x'\n"
     ]
    },
    {
     "data": {
      "image/png": "[encoded data removed]",
      "text/plain": [
       "plot without title"
      ]
     },
     "metadata": {},
     "output_type": "display_data"
    }
   ],
   "source": [
    "#sepal width and petal width for each species\n",
    "ggplot(iris, aes(Sepal.Length,Petal.Length , color=Species))+\n",
    "  geom_point(position = \"jitter\")+\n",
    "  geom_smooth()"
   ]
  },
  {
   "cell_type": "markdown",
   "id": "be4f54ea",
   "metadata": {},
   "source": [
    "his shows that for the versicolor and virginica, the petal length has kind of a linear relationship with the sepal length. But for setosa, the smoother line is a bit curved, which means that it should be straight but appears curved due to outliers. We can inspect the setosa species seperately to know more about its distribution."
   ]
  },
  {
   "cell_type": "code",
   "execution_count": 10,
   "id": "7b6c6768",
   "metadata": {},
   "outputs": [
    {
     "name": "stderr",
     "output_type": "stream",
     "text": [
      "`geom_smooth()` using method = 'loess' and formula 'y ~ x'\n"
     ]
    },
    {
     "data": {
      "image/png": "[encoded data removed]",
      "text/plain": [
       "plot without title"
      ]
     },
     "metadata": {},
     "output_type": "display_data"
    }
   ],
   "source": [
    "#plot for sepal length and petal length of setosa species\n",
    "ggplot(subset(iris, iris$Species==\"setosa\"),aes(Sepal.Length,Petal.Length))+\n",
    "  geom_point(position=\"jitter\")+\n",
    "  coord_cartesian(ylim=c(1,1.75))+\n",
    "  geom_smooth()"
   ]
  },
  {
   "cell_type": "markdown",
   "id": "453f93b1",
   "metadata": {},
   "source": [
    "we see that the plot is quite non-linear. There are quite notable outliers in the data for the species setosa. we can see a flower with a sepal length of 4.6 and a petal length of 1 while there is another flower with a petal length of 1.55 and sepal length ofaround 4.55. throughout the plot the data points are spread out, down and up and accross. hence when tried to smooth, the line becomes a bit curved due to these outliers. Another instance of this non linearity is shown at 5.75 where the petal length is around 1.2. to its left there is another point with a value of around 5.7 with a petal length of 1.7."
   ]
  },
  {
   "cell_type": "code",
   "execution_count": 11,
   "id": "19f31a62",
   "metadata": {},
   "outputs": [
    {
     "name": "stderr",
     "output_type": "stream",
     "text": [
      "`geom_smooth()` using method = 'loess' and formula 'y ~ x'\n"
     ]
    },
    {
     "data": {
      "image/png": "[encoded data removed]",
      "text/plain": [
       "plot without title"
      ]
     },
     "metadata": {},
     "output_type": "display_data"
    }
   ],
   "source": [
    "#plot for sepal width and petal width faceted by species\n",
    "ggplot(iris,aes(Sepal.Width,Petal.Width, color=Species))+\n",
    "  geom_point(position=\"jitter\")+\n",
    "  geom_smooth()+\n",
    "  facet_wrap(~Species)"
   ]
  },
  {
   "cell_type": "markdown",
   "id": "4ed3836f",
   "metadata": {},
   "source": [
    "Here we see that the Sepal width doesnt seem to have a correlation with petal length in the setosa species with the help of the smoothed line. For other species there is a linear relationship for petal width and sepal width."
   ]
  },
  {
   "cell_type": "markdown",
   "id": "67e0c639",
   "metadata": {},
   "source": [
    "From all the plots above, we can see that although the 3 species of flowers are from the same family, the setosa is linearly seperable, ie a line can be drawn to seperate setosa from the other 2 species on each of the graphs. So we can say that virginica and versicolor are quite identical as there are a few points from both these species that fall a bit close to each other, but the setosa is comparitively different from the other 2 species as all its points lie away from the group of versicolor and virginica. Also in all the graphs there was a linear trend for virginica and versicolor, whereas, setosa showed a non linearity or if adjusted for outliers, we can say that the setosa doesnt show a trend with respect to its petal and sepal dimensions."
   ]
  },
  {
   "cell_type": "code",
   "execution_count": null,
   "id": "2a3cd1b2",
   "metadata": {},
   "outputs": [],
   "source": []
  }
 ],
 "metadata": {
  "kernelspec": {
   "display_name": "R",
   "language": "R",
   "name": "ir"
  },
  "language_info": {
   "codemirror_mode": "r",
   "file_extension": ".r",
   "mimetype": "text/x-r-source",
   "name": "R",
   "pygments_lexer": "r",
   "version": "3.6.1"
  }
 },
 "nbformat": 4,
 "nbformat_minor": 5
}
